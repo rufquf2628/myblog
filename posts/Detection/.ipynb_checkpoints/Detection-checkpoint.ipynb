{
 "cells": [
  {
   "cell_type": "raw",
   "id": "cf5dfade-94d1-4b25-87b7-339054f1dcb1",
   "metadata": {},
   "source": [
    "---\n",
    "project:\n",
    "  type: website\n",
    "  output-dir: docs\n",
    "\n",
    "website:\n",
    "  title: \"Anomaly and Outlier detection\"\n",
    "  format: \n",
    "    html:\n",
    "      code-fold: false\n",
    "  jupyter: python3\n",
    "---"
   ]
  },
  {
   "cell_type": "markdown",
   "id": "2dc67058-7f8f-4631-8284-1fd6e1496bab",
   "metadata": {
    "tags": []
   },
   "source": [
    "## Anomaly and Outlier Detection\n",
    "\n",
    "In Machine Learning field, Anomaly detection and Outlier Detection are used during the Data Understanding and Data Pre-processing stages. They are used in wide range of field such as credit card, insurance, or even in military field."
   ]
  },
  {
   "cell_type": "markdown",
   "id": "e02bd713-0cc5-4fee-b4f3-cdbf8752119b",
   "metadata": {},
   "source": [
    "### Anomaly Detection\n",
    "\n",
    "Anomalies are reffered as the data points that do not conforrm to an expected pattern of other data points. So, the anomalies can be defined as weird data points comparing with the others.\n",
    "\n",
    "Anomalies might be occured for a various reasons such as malicious activity, cyber-intrusion, or breakdown of system. Since they occur not in common situation, it would be pretty interesting to analyse anomalies point.\n",
    "\n",
    "Therefore, Anomaly detection refers to the way of finding patterns in data that contains such anomalies."
   ]
  },
  {
   "cell_type": "markdown",
   "id": "e92a127a-62cf-4032-b0e9-3d3d6466cc4f",
   "metadata": {},
   "source": [
    "### Outlier Detection\n",
    "\n",
    "Outlier is a rare chance of occurrence within the dataset. The Outlier is an observation point that is far from the others. It may indicate experimental error in the dataset. Outlier should be the most extream point like minimum or maximum, or both of them.\n",
    "\n",
    "Therefore, Outlier detection refers to the way of finding a data that is far from the others."
   ]
  },
  {
   "cell_type": "markdown",
   "id": "5aa78de2-0b67-4bfd-b26c-b565713b8014",
   "metadata": {},
   "source": [
    "#### Anomaly vs Outlier\n",
    "\n",
    "![detection.png](detection.png)\n",
    "\n",
    "As seen above, Anomalies are treated as pattern although Outlier is only a data point."
   ]
  },
  {
   "cell_type": "markdown",
   "id": "7d409ad1-8726-48d5-958e-33ce703f87d7",
   "metadata": {},
   "source": [
    "### Anomaly / Outlier Detection in Support Vector Machine\n",
    "\n",
    "The Support Vector Machine (SVM) is a supervised machine learning used in classification. SVM trains the dataset with two categories. An algorithm of SVM assigns a new input into one of these categories.\n",
    "\n",
    "Since SVM model check the range of each category, anomalies can be determined by checking the points outside of the range."
   ]
  },
  {
   "cell_type": "markdown",
   "id": "180621ee-3173-4d71-a34c-a11e34cac387",
   "metadata": {},
   "source": [
    "#### Importing the libraries and dataset"
   ]
  },
  {
   "cell_type": "code",
   "execution_count": 1,
   "id": "76d611a7-602b-40bf-97d6-4b889a6eb69d",
   "metadata": {},
   "outputs": [
    {
     "name": "stdout",
     "output_type": "stream",
     "text": [
      "       sepal_length  sepal_width\n",
      "count    150.000000   150.000000\n",
      "mean       5.843333     3.054000\n",
      "std        0.828066     0.433594\n",
      "min        4.300000     2.000000\n",
      "25%        5.100000     2.800000\n",
      "50%        5.800000     3.000000\n",
      "75%        6.400000     3.300000\n",
      "max        7.900000     4.400000\n"
     ]
    }
   ],
   "source": [
    "import numpy as np\n",
    "import pandas as pd\n",
    "\n",
    "data = pd.read_csv(\"../dataset/iris.csv\")\n",
    "df = data[[\"sepal_length\", \"sepal_width\"]]\n",
    "print(df.describe())"
   ]
  },
  {
   "cell_type": "markdown",
   "id": "cb628e2c-b638-40fa-9203-ce6d6e829199",
   "metadata": {},
   "source": [
    "#### Training and Predict model"
   ]
  },
  {
   "cell_type": "code",
   "execution_count": 2,
   "id": "f5a7c0a3-2395-4c51-b785-40be8081bafe",
   "metadata": {},
   "outputs": [],
   "source": [
    "from sklearn.svm import OneClassSVM\n",
    "\n",
    "model = OneClassSVM(kernel='rbf', gamma=0.001, nu=0.05).fit(df)\n",
    "y_pred = model.predict(df)"
   ]
  },
  {
   "cell_type": "markdown",
   "id": "47e30e9b-8d38-4e57-ac3e-370b9ba81abe",
   "metadata": {},
   "source": [
    "Here, parameter 'nu' in OneClassSVM refers the estimated proportion of outliers in this data. So, in this dataset, we predict 5% of the data gonna be anomalies."
   ]
  },
  {
   "cell_type": "code",
   "execution_count": 3,
   "id": "3b776a4f-6def-4f82-aed0-e0cc0e6fc918",
   "metadata": {},
   "outputs": [
    {
     "data": {
      "text/html": [
       "<div>\n",
       "<style scoped>\n",
       "    .dataframe tbody tr th:only-of-type {\n",
       "        vertical-align: middle;\n",
       "    }\n",
       "\n",
       "    .dataframe tbody tr th {\n",
       "        vertical-align: top;\n",
       "    }\n",
       "\n",
       "    .dataframe thead th {\n",
       "        text-align: right;\n",
       "    }\n",
       "</style>\n",
       "<table border=\"1\" class=\"dataframe\">\n",
       "  <thead>\n",
       "    <tr style=\"text-align: right;\">\n",
       "      <th></th>\n",
       "      <th>sepal_length</th>\n",
       "      <th>sepal_width</th>\n",
       "    </tr>\n",
       "  </thead>\n",
       "  <tbody>\n",
       "    <tr>\n",
       "      <th>8</th>\n",
       "      <td>4.4</td>\n",
       "      <td>2.9</td>\n",
       "    </tr>\n",
       "    <tr>\n",
       "      <th>13</th>\n",
       "      <td>4.3</td>\n",
       "      <td>3.0</td>\n",
       "    </tr>\n",
       "    <tr>\n",
       "      <th>41</th>\n",
       "      <td>4.5</td>\n",
       "      <td>2.3</td>\n",
       "    </tr>\n",
       "    <tr>\n",
       "      <th>117</th>\n",
       "      <td>7.7</td>\n",
       "      <td>3.8</td>\n",
       "    </tr>\n",
       "    <tr>\n",
       "      <th>118</th>\n",
       "      <td>7.7</td>\n",
       "      <td>2.6</td>\n",
       "    </tr>\n",
       "    <tr>\n",
       "      <th>131</th>\n",
       "      <td>7.9</td>\n",
       "      <td>3.8</td>\n",
       "    </tr>\n",
       "  </tbody>\n",
       "</table>\n",
       "</div>"
      ],
      "text/plain": [
       "     sepal_length  sepal_width\n",
       "8             4.4          2.9\n",
       "13            4.3          3.0\n",
       "41            4.5          2.3\n",
       "117           7.7          3.8\n",
       "118           7.7          2.6\n",
       "131           7.9          3.8"
      ]
     },
     "execution_count": 3,
     "metadata": {},
     "output_type": "execute_result"
    }
   ],
   "source": [
    "anomalies = df.iloc[np.where(y_pred == -1)]\n",
    "anomalies"
   ]
  },
  {
   "cell_type": "markdown",
   "id": "a8d40935-c95c-4d64-bcad-2b42bec282ca",
   "metadata": {},
   "source": [
    "#### Visualising the results"
   ]
  },
  {
   "cell_type": "code",
   "execution_count": 4,
   "id": "859b0cee-eab6-472c-b21c-5a1b497b6355",
   "metadata": {},
   "outputs": [
    {
     "data": {
      "text/plain": [
       "<matplotlib.collections.PathCollection at 0x1d0d3a11270>"
      ]
     },
     "execution_count": 4,
     "metadata": {},
     "output_type": "execute_result"
    },
    {
     "data": {
      "image/png": "[encoded data removed]",
      "text/plain": [
       "<Figure size 640x480 with 1 Axes>"
      ]
     },
     "metadata": {},
     "output_type": "display_data"
    }
   ],
   "source": [
    "import matplotlib.pyplot as plt\n",
    "\n",
    "plt.scatter(df[\"sepal_length\"], df[\"sepal_width\"])\n",
    "plt.scatter(anomalies[\"sepal_length\"], anomalies[\"sepal_width\"], c=\"r\")"
   ]
  },
  {
   "cell_type": "markdown",
   "id": "63119995-4d35-45b8-bca7-184042455eca",
   "metadata": {},
   "source": [
    "Here. the red dots among the blue dots represent anomalies in this dataset. Since we predict 5% of dataset into anomalies, only 5 data points seems to be red."
   ]
  }
 ],
 "metadata": {
  "kernelspec": {
   "display_name": "Python 3 (ipykernel)",
   "language": "python",
   "name": "python3"
  },
  "language_info": {
   "codemirror_mode": {
    "name": "ipython",
    "version": 3
   },
   "file_extension": ".py",
   "mimetype": "text/x-python",
   "name": "python",
   "nbconvert_exporter": "python",
   "pygments_lexer": "ipython3",
   "version": "3.10.9"
  }
 },
 "nbformat": 4,
 "nbformat_minor": 5
}
